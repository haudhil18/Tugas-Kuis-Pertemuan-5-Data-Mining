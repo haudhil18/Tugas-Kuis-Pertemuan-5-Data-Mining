{
  "nbformat": 4,
  "nbformat_minor": 0,
  "metadata": {
    "colab": {
      "name": "naive_bayes.ipynb",
      "provenance": [],
      "collapsed_sections": []
    },
    "kernelspec": {
      "name": "python3",
      "display_name": "Python 3"
    },
    "language_info": {
      "name": "python"
    }
  },
  "cells": [
    {
      "cell_type": "code",
      "metadata": {
        "id": "A-VsyMjzNeRg"
      },
      "source": [
        "import numpy as np\n",
        "import matplotlib.pyplot as plt\n",
        "import pandas as pd"
      ],
      "execution_count": 1,
      "outputs": []
    },
    {
      "cell_type": "code",
      "metadata": {
        "id": "c0Bv-ivaOgTD"
      },
      "source": [
        "dataset = pd.read_csv('Facebook_Ads_2.csv')\n",
        "x = dataset.iloc[:, [2, 3]].values\n",
        "y = dataset.iloc[:, -1].values"
      ],
      "execution_count": 2,
      "outputs": []
    },
    {
      "cell_type": "code",
      "metadata": {
        "colab": {
          "base_uri": "https://localhost:8080/"
        },
        "id": "mGpdnVGCPUHt",
        "outputId": "885e22e9-5530-4d18-c296-bdc08e8421b7"
      },
      "source": [
        "print(x)"
      ],
      "execution_count": 3,
      "outputs": [
        {
          "output_type": "stream",
          "text": [
            "[[2.56496480e+09 5.53300601e+04]\n",
            " [3.24561067e+08 7.90490767e+04]\n",
            " [2.09459779e+01 4.10986083e+04]\n",
            " [5.40393248e+01 3.71433554e+04]\n",
            " [3.42497288e+01 3.73551128e+04]\n",
            " [5.20099460e+01 8.06426522e+04]\n",
            " [4.28813696e+01 6.19083982e+04]\n",
            " [2.56769196e+01 2.98514115e+04]\n",
            " [4.06982326e+01 3.42811188e+04]\n",
            " [2.96873619e+01 4.10988788e+04]\n",
            " [3.32725720e+01 5.41270171e+04]\n",
            " [3.45308979e+01 3.02219371e+04]\n",
            " [2.53136952e+01 4.37639976e+04]\n",
            " [4.65407082e+01 4.86634947e+04]\n",
            " [3.77165819e+01 6.46959770e+04]\n",
            " [2.50567822e+01 1.77599339e+04]\n",
            " [4.10959602e+01 4.94633813e+04]\n",
            " [2.47615633e+01 3.84844232e+04]\n",
            " [4.88701755e+01 3.47744441e+04]\n",
            " [2.78338319e+01 5.16444933e+04]\n",
            " [1.71035757e+01 6.16617652e+04]\n",
            " [2.55977957e+01 5.36307638e+04]\n",
            " [4.22491897e+01 3.22150995e+04]\n",
            " [3.71359218e+01 5.17336572e+04]\n",
            " [3.24431111e+01 5.16776990e+04]\n",
            " [1.99366738e+01 3.42637885e+04]\n",
            " [3.98205393e+01 7.05033132e+04]\n",
            " [3.07288550e+01 6.70222730e+04]\n",
            " [2.40435827e+01 3.64747097e+04]\n",
            " [3.90560356e+01 2.91783610e+04]\n",
            " [3.12469528e+01 7.60643837e+04]\n",
            " [3.60573969e+01 6.52029101e+04]\n",
            " [1.99109736e+01 3.28945211e+04]\n",
            " [2.24559772e+01 4.77700703e+04]\n",
            " [3.67657158e+01 5.34644264e+04]\n",
            " [3.59575676e+01 2.36833077e+04]\n",
            " [4.19899262e+01 5.47269945e+04]\n",
            " [3.45416750e+01 7.81564644e+04]\n",
            " [2.48281717e+01 4.31269171e+04]\n",
            " [3.85916733e+01 5.45242749e+04]\n",
            " [3.05154930e+01 1.20660167e+04]\n",
            " [2.89448700e+01 2.98994691e+04]\n",
            " [4.09839628e+01 4.55914541e+04]\n",
            " [2.76038406e+01 3.22423240e+04]\n",
            " [1.90893032e+01 3.92798893e+04]\n",
            " [1.88815858e+01 5.25189951e+04]\n",
            " [2.07144638e+01 3.39930522e+04]\n",
            " [2.74038095e+01 4.80260228e+04]\n",
            " [3.90490584e+01 7.35165789e+04]\n",
            " [3.62967505e+01 2.93548248e+04]\n",
            " [3.88067588e+01 6.12989152e+04]\n",
            " [2.62443824e+01 6.13471666e+04]\n",
            " [2.07768912e+01 2.56426419e+04]\n",
            " [2.60097999e+01 3.69483513e+04]\n",
            " [6.00000000e+01 7.64991193e+04]\n",
            " [2.74320282e+01 4.08144763e+04]\n",
            " [2.63876221e+01 3.70802788e+04]\n",
            " [4.70705902e+01 8.07098390e+04]\n",
            " [4.18076397e+01 7.95235748e+04]\n",
            " [3.68088102e+01 8.12824122e+04]\n",
            " [2.98432039e+01 1.00000000e+05]\n",
            " [4.19628357e+01 6.34792556e+04]\n",
            " [4.29084570e+01 5.58967506e+04]\n",
            " [3.15183734e+01 3.52772568e+04]\n",
            " [4.44492861e+01 7.80397881e+04]\n",
            " [3.86520504e+01 5.77934256e+04]\n",
            " [2.98597461e+01 4.94642315e+04]\n",
            " [3.18710838e+01 5.68627176e+04]\n",
            " [3.51243059e+01 7.14804800e+04]\n",
            " [4.36229793e+01 4.39387766e+04]\n",
            " [2.78047431e+01 3.86511302e+04]\n",
            " [4.14575777e+01 7.59232499e+04]\n",
            " [2.64102406e+01 5.53887145e+04]\n",
            " [2.47085321e+01 5.81645968e+04]\n",
            " [3.82419630e+01 5.28409131e+04]\n",
            " [5.30739074e+01 6.53448407e+04]\n",
            " [3.81654874e+01 2.87283204e+04]\n",
            " [2.64081753e+01 2.83492112e+04]\n",
            " [1.98456916e+01 1.92957707e+04]\n",
            " [4.64672263e+01 6.89877084e+04]\n",
            " [2.78707542e+01 2.35527653e+04]\n",
            " [3.76250690e+01 5.10373533e+04]\n",
            " [1.56195277e+01 3.15306152e+04]\n",
            " [4.27702221e+01 7.06512880e+04]\n",
            " [2.97700309e+01 7.25353009e+04]\n",
            " [3.05759060e+01 6.57428549e+04]\n",
            " [3.17184722e+01 7.30469351e+04]\n",
            " [4.13595971e+01 7.31578464e+04]\n",
            " [2.72932799e+01 5.25870476e+04]\n",
            " [2.57989330e+01 3.05411407e+04]\n",
            " [3.96323569e+01 7.72452348e+04]\n",
            " [2.01683006e+01 3.44984851e+04]\n",
            " [4.44626110e+01 6.30841640e+04]\n",
            " [1.18632392e+01 5.33845640e+04]\n",
            " [4.84830316e+01 6.64396506e+04]\n",
            " [1.89982488e+01 5.08822378e+04]\n",
            " [2.46473139e+01 4.42890324e+04]\n",
            " [2.88636415e+01 5.55952863e+04]\n",
            " [1.28660315e+01 2.71482792e+04]\n",
            " [5.63840412e+01 6.07822398e+04]]\n"
          ],
          "name": "stdout"
        }
      ]
    },
    {
      "cell_type": "code",
      "metadata": {
        "colab": {
          "base_uri": "https://localhost:8080/"
        },
        "id": "IzDF7y5AoiO2",
        "outputId": "e08c79fb-09a3-4dd9-8c90-aa6d113dd9b5"
      },
      "source": [
        "print(y)"
      ],
      "execution_count": 4,
      "outputs": [
        {
          "output_type": "stream",
          "text": [
            "[0 1 0 1 0 1 1 0 1 0 0 0 0 1 1 0 1 0 1 0 0 0 1 1 0 0 1 1 1 0 1 1 0 0 0 0 1\n",
            " 1 0 1 0 0 1 0 0 0 1 0 1 1 1 0 0 0 1 0 0 1 1 1 1 1 1 0 1 1 0 1 1 0 0 1 0 0\n",
            " 0 1 0 0 0 1 0 1 0 1 1 1 1 1 1 0 1 0 1 0 1 0 1 0 0 1]\n"
          ],
          "name": "stdout"
        }
      ]
    },
    {
      "cell_type": "code",
      "metadata": {
        "id": "DS0hLPtuon5C"
      },
      "source": [
        "from sklearn.model_selection import train_test_split\n",
        "x_train, x_test, y_train, y_test = train_test_split(x, y, test_size=0.25, random_state=0)"
      ],
      "execution_count": 5,
      "outputs": []
    },
    {
      "cell_type": "code",
      "metadata": {
        "colab": {
          "base_uri": "https://localhost:8080/"
        },
        "id": "9eoZaX6qpS9f",
        "outputId": "23ec07a1-52d6-4cab-e6b4-24420cdde559"
      },
      "source": [
        "print(x_train)"
      ],
      "execution_count": 6,
      "outputs": [
        {
          "output_type": "stream",
          "text": [
            "[[3.90490584e+01 7.35165789e+04]\n",
            " [4.28813696e+01 6.19083982e+04]\n",
            " [5.63840412e+01 6.07822398e+04]\n",
            " [1.56195277e+01 3.15306152e+04]\n",
            " [3.81654874e+01 2.87283204e+04]\n",
            " [2.98432039e+01 1.00000000e+05]\n",
            " [2.78707542e+01 2.35527653e+04]\n",
            " [3.96323569e+01 7.72452348e+04]\n",
            " [3.51243059e+01 7.14804800e+04]\n",
            " [2.62443824e+01 6.13471666e+04]\n",
            " [3.07288550e+01 6.70222730e+04]\n",
            " [4.88701755e+01 3.47744441e+04]\n",
            " [2.63876221e+01 3.70802788e+04]\n",
            " [3.15183734e+01 3.52772568e+04]\n",
            " [3.82419630e+01 5.28409131e+04]\n",
            " [3.24561067e+08 7.90490767e+04]\n",
            " [4.19628357e+01 6.34792556e+04]\n",
            " [4.09839628e+01 4.55914541e+04]\n",
            " [2.89448700e+01 2.98994691e+04]\n",
            " [3.42497288e+01 3.73551128e+04]\n",
            " [2.50567822e+01 1.77599339e+04]\n",
            " [2.47615633e+01 3.84844232e+04]\n",
            " [3.05154930e+01 1.20660167e+04]\n",
            " [2.48281717e+01 4.31269171e+04]\n",
            " [5.20099460e+01 8.06426522e+04]\n",
            " [2.01683006e+01 3.44984851e+04]\n",
            " [3.68088102e+01 8.12824122e+04]\n",
            " [2.56496480e+09 5.53300601e+04]\n",
            " [3.67657158e+01 5.34644264e+04]\n",
            " [2.40435827e+01 3.64747097e+04]\n",
            " [3.88067588e+01 6.12989152e+04]\n",
            " [3.45308979e+01 3.02219371e+04]\n",
            " [3.59575676e+01 2.36833077e+04]\n",
            " [3.71359218e+01 5.17336572e+04]\n",
            " [2.07768912e+01 2.56426419e+04]\n",
            " [3.32725720e+01 5.41270171e+04]\n",
            " [3.60573969e+01 6.52029101e+04]\n",
            " [2.98597461e+01 4.94642315e+04]\n",
            " [4.70705902e+01 8.07098390e+04]\n",
            " [4.64672263e+01 6.89877084e+04]\n",
            " [3.05759060e+01 6.57428549e+04]\n",
            " [1.99109736e+01 3.28945211e+04]\n",
            " [2.97700309e+01 7.25353009e+04]\n",
            " [3.77165819e+01 6.46959770e+04]\n",
            " [2.57989330e+01 3.05411407e+04]\n",
            " [2.78338319e+01 5.16444933e+04]\n",
            " [3.90560356e+01 2.91783610e+04]\n",
            " [3.62967505e+01 2.93548248e+04]\n",
            " [2.88636415e+01 5.55952863e+04]\n",
            " [1.28660315e+01 2.71482792e+04]\n",
            " [4.36229793e+01 4.39387766e+04]\n",
            " [1.71035757e+01 6.16617652e+04]\n",
            " [4.84830316e+01 6.64396506e+04]\n",
            " [2.64102406e+01 5.53887145e+04]\n",
            " [2.64081753e+01 2.83492112e+04]\n",
            " [1.99366738e+01 3.42637885e+04]\n",
            " [3.45416750e+01 7.81564644e+04]\n",
            " [3.76250690e+01 5.10373533e+04]\n",
            " [2.07144638e+01 3.39930522e+04]\n",
            " [3.85916733e+01 5.45242749e+04]\n",
            " [3.86520504e+01 5.77934256e+04]\n",
            " [4.18076397e+01 7.95235748e+04]\n",
            " [2.53136952e+01 4.37639976e+04]\n",
            " [2.72932799e+01 5.25870476e+04]\n",
            " [2.78047431e+01 3.86511302e+04]\n",
            " [4.13595971e+01 7.31578464e+04]\n",
            " [4.19899262e+01 5.47269945e+04]\n",
            " [2.55977957e+01 5.36307638e+04]\n",
            " [4.27702221e+01 7.06512880e+04]\n",
            " [2.96873619e+01 4.10988788e+04]\n",
            " [2.46473139e+01 4.42890324e+04]\n",
            " [3.18710838e+01 5.68627176e+04]\n",
            " [4.44492861e+01 7.80397881e+04]\n",
            " [2.74038095e+01 4.80260228e+04]\n",
            " [1.90893032e+01 3.92798893e+04]]\n"
          ],
          "name": "stdout"
        }
      ]
    },
    {
      "cell_type": "code",
      "metadata": {
        "colab": {
          "base_uri": "https://localhost:8080/"
        },
        "id": "b6dF0Na0vWRY",
        "outputId": "43dbb254-69df-4c27-fdda-9a404ea47dad"
      },
      "source": [
        "print(x_test)"
      ],
      "execution_count": 7,
      "outputs": [
        {
          "output_type": "stream",
          "text": [
            "[[3.98205393e+01 7.05033132e+04]\n",
            " [3.17184722e+01 7.30469351e+04]\n",
            " [2.09459779e+01 4.10986083e+04]\n",
            " [2.74320282e+01 4.08144763e+04]\n",
            " [5.30739074e+01 6.53448407e+04]\n",
            " [1.18632392e+01 5.33845640e+04]\n",
            " [4.10959602e+01 4.94633813e+04]\n",
            " [2.47085321e+01 5.81645968e+04]\n",
            " [6.00000000e+01 7.64991193e+04]\n",
            " [1.89982488e+01 5.08822378e+04]\n",
            " [2.60097999e+01 3.69483513e+04]\n",
            " [4.44626110e+01 6.30841640e+04]\n",
            " [1.98456916e+01 1.92957707e+04]\n",
            " [4.65407082e+01 4.86634947e+04]\n",
            " [2.56769196e+01 2.98514115e+04]\n",
            " [3.12469528e+01 7.60643837e+04]\n",
            " [4.22491897e+01 3.22150995e+04]\n",
            " [3.24431111e+01 5.16776990e+04]\n",
            " [2.24559772e+01 4.77700703e+04]\n",
            " [4.06982326e+01 3.42811188e+04]\n",
            " [2.76038406e+01 3.22423240e+04]\n",
            " [4.29084570e+01 5.58967506e+04]\n",
            " [5.40393248e+01 3.71433554e+04]\n",
            " [4.14575777e+01 7.59232499e+04]\n",
            " [1.88815858e+01 5.25189951e+04]]\n"
          ],
          "name": "stdout"
        }
      ]
    },
    {
      "cell_type": "code",
      "metadata": {
        "colab": {
          "base_uri": "https://localhost:8080/"
        },
        "id": "pi-KVUPPvnyV",
        "outputId": "98920472-b323-4b17-905f-57f8d258ba2e"
      },
      "source": [
        "print(y_train)"
      ],
      "execution_count": 8,
      "outputs": [
        {
          "output_type": "stream",
          "text": [
            "[1 1 1 0 0 1 0 1 1 0 1 1 0 0 0 1 1 1 0 0 0 0 0 0 1 0 1 0 0 1 1 0 0 1 0 0 1\n",
            " 0 1 1 1 0 1 1 0 0 0 1 0 0 0 0 1 0 0 0 1 1 1 1 1 1 0 1 0 1 1 0 1 0 1 1 1 0\n",
            " 0]\n"
          ],
          "name": "stdout"
        }
      ]
    },
    {
      "cell_type": "code",
      "metadata": {
        "colab": {
          "base_uri": "https://localhost:8080/"
        },
        "id": "T67J1BR1vruO",
        "outputId": "ba95376c-9077-4bca-8da9-5eb885064b92"
      },
      "source": [
        "print(y_test)"
      ],
      "execution_count": 9,
      "outputs": [
        {
          "output_type": "stream",
          "text": [
            "[1 1 0 0 1 0 1 0 1 0 0 1 0 1 0 1 1 0 0 1 0 1 1 1 0]\n"
          ],
          "name": "stdout"
        }
      ]
    },
    {
      "cell_type": "code",
      "metadata": {
        "id": "BBFVJDphvykS"
      },
      "source": [
        "from sklearn.preprocessing import StandardScaler\n",
        "sc = StandardScaler()\n",
        "x_train = sc.fit_transform(x_train)\n",
        "x_test = sc.fit_transform(x_test)"
      ],
      "execution_count": 10,
      "outputs": []
    },
    {
      "cell_type": "code",
      "metadata": {
        "colab": {
          "base_uri": "https://localhost:8080/"
        },
        "id": "qnPMwGm-wdKL",
        "outputId": "2bfdda76-808f-465a-faa6-dfe2f4520efe"
      },
      "source": [
        "print(x_train)"
      ],
      "execution_count": 11,
      "outputs": [
        {
          "output_type": "stream",
          "text": [
            "[[-1.30140389e-01  1.21457096e+00]\n",
            " [-1.30140376e-01  5.84370414e-01]\n",
            " [-1.30140330e-01  5.23232014e-01]\n",
            " [-1.30140468e-01 -1.06481959e+00]\n",
            " [-1.30140392e-01 -1.21695434e+00]\n",
            " [-1.30140420e-01  2.65233860e+00]\n",
            " [-1.30140426e-01 -1.49793185e+00]\n",
            " [-1.30140387e-01  1.41699726e+00]\n",
            " [-1.30140402e-01  1.10403249e+00]\n",
            " [-1.30140432e-01  5.53901518e-01]\n",
            " [-1.30140417e-01  8.61999341e-01]\n",
            " [-1.30140355e-01 -8.88714234e-01]\n",
            " [-1.30140431e-01 -7.63531971e-01]\n",
            " [-1.30140414e-01 -8.61416858e-01]\n",
            " [-1.30140391e-01  9.21025721e-02]\n",
            " [ 9.66194479e-01  1.51492666e+00]\n",
            " [-1.30140379e-01  6.69651237e-01]\n",
            " [-1.30140382e-01 -3.01465822e-01]\n",
            " [-1.30140423e-01 -1.15337344e+00]\n",
            " [-1.30140405e-01 -7.48611416e-01]\n",
            " [-1.30140436e-01 -1.81242088e+00]\n",
            " [-1.30140437e-01 -6.87301891e-01]\n",
            " [-1.30140417e-01 -2.12153993e+00]\n",
            " [-1.30140437e-01 -4.35263926e-01]\n",
            " [-1.30140345e-01  1.60144083e+00]\n",
            " [-1.30140452e-01 -9.03695865e-01]\n",
            " [-1.30140396e-01  1.63617299e+00]\n",
            " [ 8.53405541e+00  2.27236734e-01]\n",
            " [-1.30140396e-01  1.25952700e-01]\n",
            " [-1.30140439e-01 -7.96407924e-01]\n",
            " [-1.30140389e-01  5.51281982e-01]\n",
            " [-1.30140404e-01 -1.13586686e+00]\n",
            " [-1.30140399e-01 -1.49084478e+00]\n",
            " [-1.30140395e-01  3.19903729e-02]\n",
            " [-1.30140450e-01 -1.38447381e+00]\n",
            " [-1.30140408e-01  1.61924321e-01]\n",
            " [-1.30140399e-01  7.63227315e-01]\n",
            " [-1.30140420e-01 -9.12152664e-02]\n",
            " [-1.30140362e-01  1.60508836e+00]\n",
            " [-1.30140364e-01  9.68701541e-01]\n",
            " [-1.30140417e-01  7.92540564e-01]\n",
            " [-1.30140453e-01 -9.90774025e-01]\n",
            " [-1.30140420e-01  1.16129802e+00]\n",
            " [-1.30140393e-01  7.35706249e-01]\n",
            " [-1.30140433e-01 -1.11853751e+00]\n",
            " [-1.30140427e-01  2.71497219e-02]\n",
            " [-1.30140389e-01 -1.19252193e+00]\n",
            " [-1.30140398e-01 -1.18294182e+00]\n",
            " [-1.30140423e-01  2.41635695e-01]\n",
            " [-1.30140477e-01 -1.30273375e+00]\n",
            " [-1.30140373e-01 -3.91188607e-01]\n",
            " [-1.30140463e-01  5.70980871e-01]\n",
            " [-1.30140357e-01  8.30369152e-01]\n",
            " [-1.30140431e-01  2.30421047e-01]\n",
            " [-1.30140431e-01 -1.23753593e+00]\n",
            " [-1.30140453e-01 -9.16437390e-01]\n",
            " [-1.30140404e-01  1.46646732e+00]\n",
            " [-1.30140393e-01 -5.81151063e-03]\n",
            " [-1.30140451e-01 -9.31135490e-01]\n",
            " [-1.30140390e-01  1.83491187e-01]\n",
            " [-1.30140390e-01  3.60971244e-01]\n",
            " [-1.30140379e-01  1.54068685e+00]\n",
            " [-1.30140435e-01 -4.00677245e-01]\n",
            " [-1.30140428e-01  7.83203815e-02]\n",
            " [-1.30140427e-01 -6.78251475e-01]\n",
            " [-1.30140381e-01  1.19509562e+00]\n",
            " [-1.30140379e-01  1.94496700e-01]\n",
            " [-1.30140434e-01  1.34983049e-01]\n",
            " [-1.30140376e-01  1.05901619e+00]\n",
            " [-1.30140420e-01 -5.45364802e-01]\n",
            " [-1.30140437e-01 -3.72173449e-01]\n",
            " [-1.30140413e-01  3.10443709e-01]\n",
            " [-1.30140370e-01  1.46013304e+00]\n",
            " [-1.30140428e-01 -1.69294680e-01]\n",
            " [-1.30140456e-01 -6.44116555e-01]]\n"
          ],
          "name": "stdout"
        }
      ]
    },
    {
      "cell_type": "code",
      "metadata": {
        "colab": {
          "base_uri": "https://localhost:8080/"
        },
        "id": "JIn65Xi1xDK_",
        "outputId": "bb781165-8ff3-4c54-df1c-692cab449cfc"
      },
      "source": [
        "print(x_test)"
      ],
      "execution_count": 12,
      "outputs": [
        {
          "output_type": "stream",
          "text": [
            "[[ 4.84127313e-01  1.23935834e+00]\n",
            " [-1.72515470e-01  1.40026228e+00]\n",
            " [-1.04558657e+00 -6.20718740e-01]\n",
            " [-5.19916014e-01 -6.38692302e-01]\n",
            " [ 1.55826412e+00  9.13044698e-01]\n",
            " [-1.78170919e+00  1.56463851e-01]\n",
            " [ 5.87495494e-01 -9.15815605e-02]\n",
            " [-7.40645374e-01  4.58838232e-01]\n",
            " [ 2.11959849e+00  1.61863988e+00]\n",
            " [-1.20344286e+00 -1.82781122e-03]\n",
            " [-6.35182398e-01 -8.83254884e-01]\n",
            " [ 8.60350171e-01  7.70039254e-01]\n",
            " [-1.13476073e+00 -1.99991838e+00]\n",
            " [ 1.02877232e+00 -1.42180632e-01]\n",
            " [-6.62161121e-01 -1.33219171e+00]\n",
            " [-2.10730389e-01  1.59113946e+00]\n",
            " [ 6.80960504e-01 -1.18267000e+00]\n",
            " [-1.13786152e-01  4.84913187e-02]\n",
            " [-9.23206673e-01 -1.98696696e-01]\n",
            " [ 5.55261129e-01 -1.05197816e+00]\n",
            " [-5.05991251e-01 -1.18094784e+00]\n",
            " [ 7.34391702e-01  3.15379260e-01]\n",
            " [ 1.63650766e+00 -8.70919356e-01]\n",
            " [ 6.16803259e-01  1.58221164e+00]\n",
            " [-1.21289797e+00  1.01709862e-01]]\n"
          ],
          "name": "stdout"
        }
      ]
    },
    {
      "cell_type": "code",
      "metadata": {
        "colab": {
          "base_uri": "https://localhost:8080/"
        },
        "id": "1JrcdIbvxMG3",
        "outputId": "fd1776bb-80c1-4e5a-be62-6452f13f37f7"
      },
      "source": [
        "from sklearn.naive_bayes import GaussianNB\n",
        "classifier = GaussianNB()\n",
        "classifier.fit(x_train, y_train)"
      ],
      "execution_count": 13,
      "outputs": [
        {
          "output_type": "execute_result",
          "data": {
            "text/plain": [
              "GaussianNB(priors=None, var_smoothing=1e-09)"
            ]
          },
          "metadata": {
            "tags": []
          },
          "execution_count": 13
        }
      ]
    },
    {
      "cell_type": "code",
      "metadata": {
        "id": "1mV918Yvx3Zh"
      },
      "source": [
        "y_pred = classifier.predict(x_test)"
      ],
      "execution_count": 14,
      "outputs": []
    },
    {
      "cell_type": "code",
      "metadata": {
        "colab": {
          "base_uri": "https://localhost:8080/"
        },
        "id": "dAa7ZLXByA0m",
        "outputId": "3df9e850-0ae8-43a1-b39d-2283d930f189"
      },
      "source": [
        "from sklearn.metrics import confusion_matrix\n",
        "cm = confusion_matrix(y_test, y_pred)\n",
        "print(cm)"
      ],
      "execution_count": 15,
      "outputs": [
        {
          "output_type": "stream",
          "text": [
            "[[11  1]\n",
            " [10  3]]\n"
          ],
          "name": "stdout"
        }
      ]
    },
    {
      "cell_type": "code",
      "metadata": {
        "colab": {
          "base_uri": "https://localhost:8080/",
          "height": 349
        },
        "id": "X3R-lXRvyYef",
        "outputId": "e92ae5b2-107e-455d-cc8c-273371ad05c9"
      },
      "source": [
        "from matplotlib.colors import ListedColormap\n",
        "x_set, y_set = x_train, y_train\n",
        "x1, x2 = np.meshgrid(np.arange(start = x_set[:, 0].min() - 1, stop = x_set[:, 0].max() + 1, step = 0.01),\n",
        "                     np.arange(start = x_set[:, 1].min() - 1, stop = x_set[:, 1].max() + 1, step = 0.01))\n",
        "plt.contourf(x1,x2, classifier.predict(np.array([x1.ravel(), x2.ravel()]).T).reshape(x1.shape),\n",
        "            alpha = 0.75, cmap = ListedColormap(('red','green')))\n",
        "plt.xlim(x1.min(),x1.max())\n",
        "plt.xlim(x2.min(),x2.max())\n",
        "for i,j in enumerate(np.unique(y_set)):\n",
        "  plt.scatter(x_set[y_set == j, 0],x_set[y_set == j, 1],\n",
        "              c = ListedColormap(('red','green'))(i),label = j)\n",
        "plt.title('Klasifikasi Data dengan Naive Bayes(Data Training)')\n",
        "plt.xlabel('Time Spent on Site')\n",
        "plt.ylabel('Salary')\n",
        "plt.legend()\n",
        "plt.show()"
      ],
      "execution_count": 16,
      "outputs": [
        {
          "output_type": "stream",
          "text": [
            "*c* argument looks like a single numeric RGB or RGBA sequence, which should be avoided as value-mapping will have precedence in case its length matches with *x* & *y*.  Please use the *color* keyword-argument or provide a 2-D array with a single row if you intend to specify the same RGB or RGBA value for all points.\n",
            "*c* argument looks like a single numeric RGB or RGBA sequence, which should be avoided as value-mapping will have precedence in case its length matches with *x* & *y*.  Please use the *color* keyword-argument or provide a 2-D array with a single row if you intend to specify the same RGB or RGBA value for all points.\n"
          ],
          "name": "stderr"
        },
        {
          "output_type": "display_data",
          "data": {
            "image/png": "[encoded data removed]",
            "text/plain": [
              "<Figure size 432x288 with 1 Axes>"
            ]
          },
          "metadata": {
            "tags": [],
            "needs_background": "light"
          }
        }
      ]
    },
    {
      "cell_type": "code",
      "metadata": {
        "colab": {
          "base_uri": "https://localhost:8080/",
          "height": 349
        },
        "id": "Ud1hTyBC3hpu",
        "outputId": "30891b4f-ae35-4f89-dbc8-eaa359f9c1cd"
      },
      "source": [
        "from matplotlib.colors import ListedColormap\n",
        "x_set, y_set = x_test, y_test\n",
        "x1, x2 = np.meshgrid(np.arange(start = x_set[:, 0].min() - 1, stop = x_set[:, 0].max() + 1, step = 0.01),\n",
        "                     np.arange(start = x_set[:, 1].min() - 1, stop = x_set[:, 1].max() + 1, step = 0.01))\n",
        "plt.contourf(x1,x2, classifier.predict(np.array([x1.ravel(), x2.ravel()]).T).reshape(x1.shape),\n",
        "            alpha = 0.75, cmap = ListedColormap(('red','green')))\n",
        "plt.xlim(x1.min(),x1.max())\n",
        "plt.xlim(x2.min(),x2.max())\n",
        "for i,j in enumerate(np.unique(y_set)):\n",
        "  plt.scatter(x_set[y_set == j, 0],x_set[y_set == j, 1],\n",
        "              c = ListedColormap(('red','green'))(i),label = j)\n",
        "plt.title('Klasifikasi Data dengan Naive Bayes(Data Training)')\n",
        "plt.xlabel('Time Spent on Site')\n",
        "plt.ylabel('Salary')\n",
        "plt.legend()\n",
        "plt.show()"
      ],
      "execution_count": 17,
      "outputs": [
        {
          "output_type": "stream",
          "text": [
            "*c* argument looks like a single numeric RGB or RGBA sequence, which should be avoided as value-mapping will have precedence in case its length matches with *x* & *y*.  Please use the *color* keyword-argument or provide a 2-D array with a single row if you intend to specify the same RGB or RGBA value for all points.\n",
            "*c* argument looks like a single numeric RGB or RGBA sequence, which should be avoided as value-mapping will have precedence in case its length matches with *x* & *y*.  Please use the *color* keyword-argument or provide a 2-D array with a single row if you intend to specify the same RGB or RGBA value for all points.\n"
          ],
          "name": "stderr"
        },
        {
          "output_type": "display_data",
          "data": {
            "image/png": "[encoded data removed]",
            "text/plain": [
              "<Figure size 432x288 with 1 Axes>"
            ]
          },
          "metadata": {
            "tags": [],
            "needs_background": "light"
          }
        }
      ]
    }
  ]
}